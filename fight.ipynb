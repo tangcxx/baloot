{
 "cells": [
  {
   "cell_type": "code",
   "execution_count": 1,
   "id": "31381707",
   "metadata": {},
   "outputs": [],
   "source": [
    "import torch\n",
    "import numpy as np\n",
    "\n",
    "import _game\n",
    "import _bot_b2\n",
    "\n",
    "import importlib\n",
    "importlib.reload(_game)\n",
    "importlib.reload(_bot_b2)\n",
    "\n",
    "from _game import Game, Game_Hokom, Game_Sun, Bot_Random\n"
   ]
  },
  {
   "cell_type": "code",
   "execution_count": 2,
   "id": "8e8df870",
   "metadata": {},
   "outputs": [
    {
     "ename": "FileNotFoundError",
     "evalue": "[Errno 2] No such file or directory: 'model_b2/cp111000.pt'",
     "output_type": "error",
     "traceback": [
      "\u001b[1;31m---------------------------------------------------------------------------\u001b[0m",
      "\u001b[1;31mFileNotFoundError\u001b[0m                         Traceback (most recent call last)",
      "Cell \u001b[1;32mIn[2], line 2\u001b[0m\n\u001b[0;32m      1\u001b[0m models_b2 \u001b[38;5;241m=\u001b[39m [_bot_b2\u001b[38;5;241m.\u001b[39mModel(i) \u001b[38;5;28;01mfor\u001b[39;00m i \u001b[38;5;129;01min\u001b[39;00m \u001b[38;5;28mrange\u001b[39m(\u001b[38;5;241m4\u001b[39m)]\n\u001b[1;32m----> 2\u001b[0m cp_b2 \u001b[38;5;241m=\u001b[39m \u001b[43mtorch\u001b[49m\u001b[38;5;241;43m.\u001b[39;49m\u001b[43mload\u001b[49m\u001b[43m(\u001b[49m\u001b[38;5;124;43m\"\u001b[39;49m\u001b[38;5;124;43mmodel_b2/cp111000.pt\u001b[39;49m\u001b[38;5;124;43m\"\u001b[39;49m\u001b[43m)\u001b[49m\n\u001b[0;32m      3\u001b[0m [models_b2[i]\u001b[38;5;241m.\u001b[39mload_state_dict(cp_b2[\u001b[38;5;124m\"\u001b[39m\u001b[38;5;124mmodels_state_dict\u001b[39m\u001b[38;5;124m\"\u001b[39m][i]) \u001b[38;5;28;01mfor\u001b[39;00m i \u001b[38;5;129;01min\u001b[39;00m \u001b[38;5;28mrange\u001b[39m(\u001b[38;5;241m4\u001b[39m)]\n\u001b[0;32m      4\u001b[0m bots_b2 \u001b[38;5;241m=\u001b[39m [_bot_b2\u001b[38;5;241m.\u001b[39mBot(models_b2) \u001b[38;5;28;01mfor\u001b[39;00m i \u001b[38;5;129;01min\u001b[39;00m \u001b[38;5;28mrange\u001b[39m(\u001b[38;5;241m4\u001b[39m)]\n",
      "File \u001b[1;32mc:\\Users\\BNCD\\AppData\\Local\\Programs\\Python\\Python39\\lib\\site-packages\\torch\\serialization.py:1425\u001b[0m, in \u001b[0;36mload\u001b[1;34m(f, map_location, pickle_module, weights_only, mmap, **pickle_load_args)\u001b[0m\n\u001b[0;32m   1422\u001b[0m \u001b[38;5;28;01mif\u001b[39;00m \u001b[38;5;124m\"\u001b[39m\u001b[38;5;124mencoding\u001b[39m\u001b[38;5;124m\"\u001b[39m \u001b[38;5;129;01mnot\u001b[39;00m \u001b[38;5;129;01min\u001b[39;00m pickle_load_args\u001b[38;5;241m.\u001b[39mkeys():\n\u001b[0;32m   1423\u001b[0m     pickle_load_args[\u001b[38;5;124m\"\u001b[39m\u001b[38;5;124mencoding\u001b[39m\u001b[38;5;124m\"\u001b[39m] \u001b[38;5;241m=\u001b[39m \u001b[38;5;124m\"\u001b[39m\u001b[38;5;124mutf-8\u001b[39m\u001b[38;5;124m\"\u001b[39m\n\u001b[1;32m-> 1425\u001b[0m \u001b[38;5;28;01mwith\u001b[39;00m \u001b[43m_open_file_like\u001b[49m\u001b[43m(\u001b[49m\u001b[43mf\u001b[49m\u001b[43m,\u001b[49m\u001b[43m \u001b[49m\u001b[38;5;124;43m\"\u001b[39;49m\u001b[38;5;124;43mrb\u001b[39;49m\u001b[38;5;124;43m\"\u001b[39;49m\u001b[43m)\u001b[49m \u001b[38;5;28;01mas\u001b[39;00m opened_file:\n\u001b[0;32m   1426\u001b[0m     \u001b[38;5;28;01mif\u001b[39;00m _is_zipfile(opened_file):\n\u001b[0;32m   1427\u001b[0m         \u001b[38;5;66;03m# The zipfile reader is going to advance the current file position.\u001b[39;00m\n\u001b[0;32m   1428\u001b[0m         \u001b[38;5;66;03m# If we want to actually tail call to torch.jit.load, we need to\u001b[39;00m\n\u001b[0;32m   1429\u001b[0m         \u001b[38;5;66;03m# reset back to the original position.\u001b[39;00m\n\u001b[0;32m   1430\u001b[0m         orig_position \u001b[38;5;241m=\u001b[39m opened_file\u001b[38;5;241m.\u001b[39mtell()\n",
      "File \u001b[1;32mc:\\Users\\BNCD\\AppData\\Local\\Programs\\Python\\Python39\\lib\\site-packages\\torch\\serialization.py:751\u001b[0m, in \u001b[0;36m_open_file_like\u001b[1;34m(name_or_buffer, mode)\u001b[0m\n\u001b[0;32m    749\u001b[0m \u001b[38;5;28;01mdef\u001b[39;00m \u001b[38;5;21m_open_file_like\u001b[39m(name_or_buffer, mode):\n\u001b[0;32m    750\u001b[0m     \u001b[38;5;28;01mif\u001b[39;00m _is_path(name_or_buffer):\n\u001b[1;32m--> 751\u001b[0m         \u001b[38;5;28;01mreturn\u001b[39;00m \u001b[43m_open_file\u001b[49m\u001b[43m(\u001b[49m\u001b[43mname_or_buffer\u001b[49m\u001b[43m,\u001b[49m\u001b[43m \u001b[49m\u001b[43mmode\u001b[49m\u001b[43m)\u001b[49m\n\u001b[0;32m    752\u001b[0m     \u001b[38;5;28;01melse\u001b[39;00m:\n\u001b[0;32m    753\u001b[0m         \u001b[38;5;28;01mif\u001b[39;00m \u001b[38;5;124m\"\u001b[39m\u001b[38;5;124mw\u001b[39m\u001b[38;5;124m\"\u001b[39m \u001b[38;5;129;01min\u001b[39;00m mode:\n",
      "File \u001b[1;32mc:\\Users\\BNCD\\AppData\\Local\\Programs\\Python\\Python39\\lib\\site-packages\\torch\\serialization.py:732\u001b[0m, in \u001b[0;36m_open_file.__init__\u001b[1;34m(self, name, mode)\u001b[0m\n\u001b[0;32m    731\u001b[0m \u001b[38;5;28;01mdef\u001b[39;00m \u001b[38;5;21m__init__\u001b[39m(\u001b[38;5;28mself\u001b[39m, name, mode):\n\u001b[1;32m--> 732\u001b[0m     \u001b[38;5;28msuper\u001b[39m()\u001b[38;5;241m.\u001b[39m\u001b[38;5;21m__init__\u001b[39m(\u001b[38;5;28;43mopen\u001b[39;49m\u001b[43m(\u001b[49m\u001b[43mname\u001b[49m\u001b[43m,\u001b[49m\u001b[43m \u001b[49m\u001b[43mmode\u001b[49m\u001b[43m)\u001b[49m)\n",
      "\u001b[1;31mFileNotFoundError\u001b[0m: [Errno 2] No such file or directory: 'model_b2/cp111000.pt'"
     ]
    }
   ],
   "source": [
    "models_b2 = [_bot_b2.Model(i) for i in range(4)]\n",
    "cp_b2 = torch.load(\"model_b2/cp111000.pt\")\n",
    "[models_b2[i].load_state_dict(cp_b2[\"models_state_dict\"][i]) for i in range(4)]\n",
    "bots_b2 = [_bot_b2.Bot(models_b2) for i in range(4)]"
   ]
  },
  {
   "cell_type": "code",
   "execution_count": null,
   "id": "ea552cbd",
   "metadata": {},
   "outputs": [
    {
     "name": "stdout",
     "output_type": "stream",
     "text": [
      "hokum: ♠\n",
      "seat 1 played ♦J (♥8 ♥10 ♥J ♣10 ♣Q ♦10 ♦K)\n",
      "seat 2 played ♦A (♠10 ♥7 ♥K ♥A ♣7 ♣K ♣A)\n",
      "seat 3 played ♦8 (♠7 ♠8 ♠J ♠K ♣8 ♣9 ♦7)\n",
      "seat 0 played ♦9 (♠9 ♠Q ♠A ♥9 ♥Q ♣J ♦Q)\n",
      "* [[0 0 0 0]\n",
      " [0 0 0 0]\n",
      " [0 0 0 0]\n",
      " [0 0 0 0]]\n",
      "Round:1 score:13 Scores:13\n",
      "seat 2 played ♣K (♠10 ♥7 ♥K ♥A ♣7 ♣A)\n",
      "seat 3 played ♣9 (♠7 ♠8 ♠J ♠K ♣8 ♦7)\n",
      "seat 0 played ♣J (♠9 ♠Q ♠A ♥9 ♥Q ♦Q)\n",
      "seat 1 played ♣10 (♥8 ♥10 ♥J ♣Q ♦10 ♦K)\n",
      "* [[0 0 0 0]\n",
      " [0 0 0 0]\n",
      " [0 0 0 0]\n",
      " [0 0 0 0]]\n",
      "Round:2 score:-16 Scores:-3\n",
      "seat 1 played ♥10 (♥8 ♥J ♣Q ♦10 ♦K)\n",
      "seat 2 played ♥A (♠10 ♥7 ♥K ♣7 ♣A)\n",
      "seat 3 played ♠7 (♠8 ♠J ♠K ♣8 ♦7)\n",
      "seat 0 played ♥Q (♠9 ♠Q ♠A ♥9 ♦Q)\n",
      "* [[0 0 0 0]\n",
      " [0 0 0 0]\n",
      " [0 0 0 0]\n",
      " [0 1 0 0]]\n",
      "Round:3 score:-24 Scores:-27\n",
      "seat 3 played ♦7 (♠8 ♠J ♠K ♣8)\n",
      "seat 0 played ♦Q (♠9 ♠Q ♠A ♥9)\n",
      "seat 1 played ♦10 (♥8 ♥J ♣Q ♦K)\n",
      "seat 2 played ♠10 (♥7 ♥K ♣7 ♣A)\n",
      "* [[0 0 0 0]\n",
      " [0 0 0 0]\n",
      " [0 0 0 1]\n",
      " [0 1 0 0]]\n",
      "Round:4 score:23 Scores:-4\n",
      "seat 2 played ♣A (♥7 ♥K ♣7)\n",
      "seat 3 played ♣8 (♠8 ♠J ♠K)\n",
      "seat 0 played ♠Q (♠9 ♠A ♥9)\n",
      "seat 1 played ♣Q (♥8 ♥J ♦K)\n",
      "* [[0 0 1 0]\n",
      " [0 0 0 0]\n",
      " [0 0 0 1]\n",
      " [0 1 0 0]]\n",
      "Round:5 score:17 Scores:13\n",
      "seat 0 played ♠9 (♠A ♥9)\n",
      "seat 1 played ♦K (♥8 ♥J)\n",
      "seat 2 played ♥K (♥7 ♣7)\n",
      "seat 3 played ♠J (♠8 ♠K)\n",
      "* [[0 0 1 0]\n",
      " [1 0 0 0]\n",
      " [1 0 0 1]\n",
      " [0 1 0 0]]\n",
      "Round:6 score:-42 Scores:-29\n",
      "seat 3 played ♠K (♠8)\n",
      "seat 0 played ♠A (♥9)\n",
      "seat 1 played ♥J (♥8)\n",
      "seat 2 played ♥7 (♣7)\n",
      "* [[0 0 1 0]\n",
      " [1 0 0 0]\n",
      " [1 0 0 1]\n",
      " [0 1 0 0]]\n",
      "Round:7 score:17 Scores:-12\n",
      "seat 0 played ♥9 ()\n",
      "seat 1 played ♥8 ()\n",
      "seat 2 played ♣7 ()\n",
      "seat 3 played ♠8 ()\n",
      "* [[0 0 1 0]\n",
      " [1 0 0 0]\n",
      " [1 1 0 1]\n",
      " [0 1 0 0]]\n",
      "Round:8 score:0 Scores:-12\n"
     ]
    }
   ],
   "source": [
    "game = Game_Hokom(verbose=1)\n",
    "game.register_bots(bots=bots_b2)\n",
    "game.whole_game()"
   ]
  },
  {
   "cell_type": "code",
   "execution_count": null,
   "id": "497459f2",
   "metadata": {},
   "outputs": [
    {
     "name": "stdout",
     "output_type": "stream",
     "text": [
      "hokum: ♠\n",
      "Bot 3 played ♠K (♠7 ♠J ♥J ♥K ♣7 ♣K ♣A)\n",
      "Bot 0 played ♠8 (♠A ♥A ♣J ♣Q ♦7 ♦8 ♦J)\n",
      "Bot 1 played ♠9 (♠10 ♥7 ♥10 ♣8 ♣9 ♦9 ♦Q)\n",
      "Bot 2 played ♠Q (♥8 ♥9 ♥Q ♣10 ♦10 ♦K ♦A)\n",
      "Round:1 score:-21 Scores:-21\n",
      "Bot 1 played ♣9 (♠10 ♥7 ♥10 ♣8 ♦9 ♦Q)\n",
      "Bot 2 played ♣10 (♥8 ♥9 ♥Q ♦10 ♦K ♦A)\n",
      "Bot 3 played ♣A (♠7 ♠J ♥J ♥K ♣7 ♣K)\n",
      "Bot 0 played ♣Q (♠A ♥A ♣J ♦7 ♦8 ♦J)\n",
      "Round:2 score:-24 Scores:-45\n",
      "Bot 3 played ♣7 (♠7 ♠J ♥J ♥K ♣K)\n",
      "Bot 0 played ♣J (♠A ♥A ♦7 ♦8 ♦J)\n",
      "Bot 1 played ♣8 (♠10 ♥7 ♥10 ♦9 ♦Q)\n",
      "Bot 2 played ♥Q (♥8 ♥9 ♦10 ♦K ♦A)\n",
      "Round:3 score:5 Scores:-40\n",
      "Bot 0 played ♦J (♠A ♥A ♦7 ♦8)\n",
      "Bot 1 played ♦Q (♠10 ♥7 ♥10 ♦9)\n",
      "Bot 2 played ♦A (♥8 ♥9 ♦10 ♦K)\n",
      "Bot 3 played ♠7 (♠J ♥J ♥K ♣K)\n",
      "Round:4 score:-16 Scores:-56\n",
      "Bot 3 played ♣K (♠J ♥J ♥K)\n",
      "Bot 0 played ♠A (♥A ♦7 ♦8)\n",
      "Bot 1 played ♠10 (♥7 ♥10 ♦9)\n",
      "Bot 2 played ♥9 (♥8 ♦10 ♦K)\n",
      "Round:5 score:25 Scores:-31\n",
      "Bot 0 played ♦8 (♥A ♦7)\n",
      "Bot 1 played ♦9 (♥7 ♥10)\n",
      "Bot 2 played ♦10 (♥8 ♦K)\n",
      "Bot 3 played ♠J (♥J ♥K)\n",
      "Round:6 score:-30 Scores:-61\n",
      "Bot 3 played ♥K (♥J)\n",
      "Bot 0 played ♥A (♦7)\n",
      "Bot 1 played ♥10 (♥7)\n",
      "Bot 2 played ♥8 (♦K)\n",
      "Round:7 score:25 Scores:-36\n",
      "Bot 0 played ♦7 ()\n",
      "Bot 1 played ♥7 ()\n",
      "Bot 2 played ♦K ()\n",
      "Bot 3 played ♥J ()\n",
      "Round:8 score:6 Scores:-30\n"
     ]
    }
   ],
   "source": [
    "game = Game_Hokom(verbose=1)\n",
    "game.register_bots(bots=[_bot_b2.Bot(models_b2), Bot_Random(), _bot_b2.Bot(models_b2), Bot_Random()])\n",
    "game.whole_game()"
   ]
  },
  {
   "cell_type": "code",
   "execution_count": null,
   "id": "2ef6a5e5",
   "metadata": {},
   "outputs": [],
   "source": []
  }
 ],
 "metadata": {
  "kernelspec": {
   "display_name": "Python 3",
   "language": "python",
   "name": "python3"
  },
  "language_info": {
   "codemirror_mode": {
    "name": "ipython",
    "version": 3
   },
   "file_extension": ".py",
   "mimetype": "text/x-python",
   "name": "python",
   "nbconvert_exporter": "python",
   "pygments_lexer": "ipython3",
   "version": "3.9.13"
  }
 },
 "nbformat": 4,
 "nbformat_minor": 5
}
