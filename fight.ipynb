{
 "cells": [
  {
   "cell_type": "markdown",
   "id": "c448a9b0",
   "metadata": {},
   "source": [
    "# 加载"
   ]
  },
  {
   "cell_type": "code",
   "execution_count": 28,
   "id": "31381707",
   "metadata": {},
   "outputs": [],
   "source": [
    "import torch\n",
    "import numpy as np\n",
    "\n",
    "import _game2\n",
    "import _bot_v\n",
    "\n",
    "import importlib\n",
    "importlib.reload(_game2)\n",
    "importlib.reload(_bot_v)\n",
    "\n",
    "from _game2 import Game, Game_Hokom, Game_Sun, Bot_Random, Bot_Rule\n"
   ]
  },
  {
   "cell_type": "markdown",
   "id": "f3031d68",
   "metadata": {},
   "source": [
    "# 测试一局\n",
    "## 内战"
   ]
  },
  {
   "cell_type": "code",
   "execution_count": 22,
   "id": "8e8df870",
   "metadata": {},
   "outputs": [],
   "source": [
    "models_v = [_bot_v.Model(i) for i in range(4)]\n",
    "cp_v = torch.load(\"model_v/cp538000.pt\")\n",
    "[models_v[i].load_state_dict(cp_v[\"models_state_dict\"][i]) for i in range(4)]\n",
    "bots_v = [_bot_v.Bot(models_v) for i in range(4)]"
   ]
  },
  {
   "cell_type": "code",
   "execution_count": 23,
   "id": "ea552cbd",
   "metadata": {},
   "outputs": [
    {
     "name": "stdout",
     "output_type": "stream",
     "text": [
      "hokum: ♠\n",
      "seat 0 played ♠J (♠10 ♠J ♠A ♥K ♣8 ♣Q ♦8 ♦10) (♠10 ♠A ♥K ♣8 ♣Q ♦8 ♦10)\n",
      "seat 1 played ♠7 (♠7 ♠8 ♠9) (♠8 ♠9 ♥10 ♥J ♥Q ♣J ♣A)\n",
      "seat 2 played ♣K (♥7 ♥8 ♥9 ♣7 ♣K ♦9 ♦J ♦A) (♥7 ♥8 ♥9 ♣7 ♦9 ♦J ♦A)\n",
      "seat 3 played ♠Q (♠Q ♠K) (♠K ♥A ♣9 ♣10 ♦7 ♦Q ♦K)\n",
      "Round:1 score:27 Total Score:27\n",
      "seat 0 played ♦8 (♠10 ♠A ♥K ♣8 ♣Q ♦8 ♦10) (♠10 ♠A ♥K ♣8 ♣Q ♦10)\n",
      "seat 1 played ♠8 (♠8 ♠9) (♠9 ♥10 ♥J ♥Q ♣J ♣A)\n",
      "seat 2 played ♦9 (♦9 ♦J ♦A) (♥7 ♥8 ♥9 ♣7 ♦J ♦A)\n",
      "seat 3 played ♦K (♦7 ♦Q ♦K) (♠K ♥A ♣9 ♣10 ♦7 ♦Q)\n",
      "Round:2 score:-4 Total Score:23\n",
      "seat 1 played ♠9 (♠9 ♥10 ♥J ♥Q ♣J ♣A) (♥10 ♥J ♥Q ♣J ♣A)\n",
      "seat 2 played ♣7 (♥7 ♥8 ♥9 ♣7 ♦J ♦A) (♥7 ♥8 ♥9 ♦J ♦A)\n",
      "seat 3 played ♠K (♠K) (♥A ♣9 ♣10 ♦7 ♦Q)\n",
      "seat 0 played ♠10 (♠10 ♠A) (♠A ♥K ♣8 ♣Q ♦10)\n",
      "Round:3 score:-28 Total Score:-5\n",
      "seat 1 played ♣A (♥10 ♥J ♥Q ♣J ♣A) (♥10 ♥J ♥Q ♣J)\n",
      "seat 2 played ♥7 (♥7 ♥8 ♥9 ♦J ♦A) (♥8 ♥9 ♦J ♦A)\n",
      "seat 3 played ♣10 (♣9 ♣10) (♥A ♣9 ♦7 ♦Q)\n",
      "seat 0 played ♣8 (♣8 ♣Q) (♠A ♥K ♣Q ♦10)\n",
      "Round:4 score:-21 Total Score:-26\n",
      "seat 1 played ♣J (♥10 ♥J ♥Q ♣J) (♥10 ♥J ♥Q)\n",
      "seat 2 played ♥8 (♥8 ♥9 ♦J ♦A) (♥9 ♦J ♦A)\n",
      "seat 3 played ♣9 (♣9) (♥A ♦7 ♦Q)\n",
      "seat 0 played ♣Q (♣Q) (♠A ♥K ♦10)\n",
      "Round:5 score:5 Total Score:-21\n",
      "seat 0 played ♠A (♠A ♥K ♦10) (♥K ♦10)\n",
      "seat 1 played ♥J (♥10 ♥J ♥Q) (♥10 ♥Q)\n",
      "seat 2 played ♥9 (♥9 ♦J ♦A) (♦J ♦A)\n",
      "seat 3 played ♦7 (♥A ♦7 ♦Q) (♥A ♦Q)\n",
      "Round:6 score:13 Total Score:-8\n",
      "seat 0 played ♦10 (♥K ♦10) (♥K)\n",
      "seat 1 played ♥Q (♥10 ♥Q) (♥10)\n",
      "seat 2 played ♦A (♦J ♦A) (♦J)\n",
      "seat 3 played ♦Q (♦Q) (♥A)\n",
      "Round:7 score:27 Total Score:19\n",
      "seat 2 played ♦J (♦J) ()\n",
      "seat 3 played ♥A (♥A) ()\n",
      "seat 0 played ♥K (♥K) ()\n",
      "seat 1 played ♥10 (♥10) ()\n",
      "Round:8 score:27 Total Score:46\n"
     ]
    }
   ],
   "source": [
    "game = Game_Hokom(verbose=1)\n",
    "game.register_bots(bots=bots_v)\n",
    "game.whole_game()"
   ]
  },
  {
   "cell_type": "markdown",
   "id": "1a1ed394",
   "metadata": {},
   "source": [
    "## 对阵随机bot"
   ]
  },
  {
   "cell_type": "code",
   "execution_count": 24,
   "id": "497459f2",
   "metadata": {},
   "outputs": [
    {
     "name": "stdout",
     "output_type": "stream",
     "text": [
      "hokum: ♠\n",
      "seat 1 played ♥7 (♠7 ♥7 ♥9 ♥10 ♥A ♣9 ♣Q ♦9) (♠7 ♥9 ♥10 ♥A ♣9 ♣Q ♦9)\n",
      "seat 2 played ♥J (♥J) (♣8 ♣10 ♣K ♣A ♦7 ♦J ♦Q)\n",
      "seat 3 played ♥K (♥Q ♥K) (♠8 ♠9 ♠J ♠A ♥Q ♦8 ♦K)\n",
      "seat 0 played ♥8 (♥8) (♠10 ♠Q ♠K ♣7 ♣J ♦10 ♦A)\n",
      "Round:1 score:-6 Total Score:-6\n",
      "seat 3 played ♦8 (♠8 ♠9 ♠J ♠A ♥Q ♦8 ♦K) (♠8 ♠9 ♠J ♠A ♥Q ♦K)\n",
      "seat 0 played ♦A (♦10 ♦A) (♠10 ♠Q ♠K ♣7 ♣J ♦10)\n",
      "seat 1 played ♦9 (♦9) (♠7 ♥9 ♥10 ♥A ♣9 ♣Q)\n",
      "seat 2 played ♦J (♦7 ♦J ♦Q) (♣8 ♣10 ♣K ♣A ♦7 ♦Q)\n",
      "Round:2 score:13 Total Score:7\n",
      "seat 0 played ♦10 (♠10 ♠Q ♠K ♣7 ♣J ♦10) (♠10 ♠Q ♠K ♣7 ♣J)\n",
      "seat 1 played ♠7 (♠7) (♥9 ♥10 ♥A ♣9 ♣Q)\n",
      "seat 2 played ♦7 (♦7 ♦Q) (♣8 ♣10 ♣K ♣A ♦Q)\n",
      "seat 3 played ♦K (♦K) (♠8 ♠9 ♠J ♠A ♥Q)\n",
      "Round:3 score:-14 Total Score:-7\n",
      "seat 1 played ♥10 (♥9 ♥10 ♥A ♣9 ♣Q) (♥9 ♥A ♣9 ♣Q)\n",
      "seat 2 played ♣A (♣8 ♣10 ♣K ♣A ♦Q) (♣8 ♣10 ♣K ♦Q)\n",
      "seat 3 played ♥Q (♥Q) (♠8 ♠9 ♠J ♠A)\n",
      "seat 0 played ♠10 (♠10 ♠Q ♠K) (♠Q ♠K ♣7 ♣J)\n",
      "Round:4 score:34 Total Score:27\n",
      "seat 0 played ♣7 (♠Q ♠K ♣7 ♣J) (♠Q ♠K ♣J)\n",
      "seat 1 played ♣Q (♣9 ♣Q) (♥9 ♥A ♣9)\n",
      "seat 2 played ♣K (♣8 ♣10 ♣K) (♣8 ♣10 ♦Q)\n",
      "seat 3 played ♠8 (♠8 ♠9 ♠J ♠A) (♠9 ♠J ♠A)\n",
      "Round:5 score:-7 Total Score:20\n",
      "seat 3 played ♠A (♠9 ♠J ♠A) (♠9 ♠J)\n",
      "seat 0 played ♠K (♠Q ♠K) (♠Q ♣J)\n",
      "seat 1 played ♥A (♥9 ♥A ♣9) (♥9 ♣9)\n",
      "seat 2 played ♣8 (♣8 ♣10 ♦Q) (♣10 ♦Q)\n",
      "Round:6 score:-26 Total Score:-6\n",
      "seat 3 played ♠J (♠9 ♠J) (♠9)\n",
      "seat 0 played ♠Q (♠Q) (♣J)\n",
      "seat 1 played ♣9 (♥9 ♣9) (♥9)\n",
      "seat 2 played ♦Q (♣10 ♦Q) (♣10)\n",
      "Round:7 score:-26 Total Score:-32\n",
      "seat 3 played ♠9 (♠9) ()\n",
      "seat 0 played ♣J (♣J) ()\n",
      "seat 1 played ♥9 (♥9) ()\n",
      "seat 2 played ♣10 (♣10) ()\n",
      "Round:8 score:-26 Total Score:-58\n"
     ]
    }
   ],
   "source": [
    "game = Game_Hokom(verbose=1)\n",
    "game.register_bots(bots=[_bot_v.Bot(models_v), Bot_Random(), _bot_v.Bot(models_v), Bot_Random()])\n",
    "game.whole_game()"
   ]
  },
  {
   "cell_type": "markdown",
   "id": "f8c12b19",
   "metadata": {},
   "source": [
    "## 对阵简单规则bot"
   ]
  },
  {
   "cell_type": "code",
   "execution_count": 31,
   "id": "2ef6a5e5",
   "metadata": {},
   "outputs": [
    {
     "name": "stdout",
     "output_type": "stream",
     "text": [
      "hokum: ♠\n",
      "seat 1 played ♠J (♠9 ♠J ♥8 ♥9 ♥J ♥K ♦9 ♦A) (♠9 ♥8 ♥9 ♥J ♥K ♦9 ♦A)\n",
      "seat 2 played ♠A (♠A) (♥7 ♥10 ♣10 ♣Q ♣K ♦8 ♦J)\n",
      "seat 3 played ♠K (♠7 ♠8 ♠K) (♠7 ♠8 ♥Q ♥A ♣7 ♦10 ♦K)\n",
      "seat 0 played ♠Q (♠10 ♠Q) (♠10 ♣8 ♣9 ♣J ♣A ♦7 ♦Q)\n",
      "Round:1 score:-38 Total Score:-38\n",
      "seat 1 played ♦A (♠9 ♥8 ♥9 ♥J ♥K ♦9 ♦A) (♠9 ♥8 ♥9 ♥J ♥K ♦9)\n",
      "seat 2 played ♦8 (♦8 ♦J) (♥7 ♥10 ♣10 ♣Q ♣K ♦J)\n",
      "seat 3 played ♦10 (♦10 ♦K) (♠7 ♠8 ♥Q ♥A ♣7 ♦K)\n",
      "seat 0 played ♦7 (♦7 ♦Q) (♠10 ♣8 ♣9 ♣J ♣A ♦Q)\n",
      "Round:2 score:-21 Total Score:-59\n",
      "seat 1 played ♠9 (♠9 ♥8 ♥9 ♥J ♥K ♦9) (♥8 ♥9 ♥J ♥K ♦9)\n",
      "seat 2 played ♥7 (♥7 ♥10 ♣10 ♣Q ♣K ♦J) (♥10 ♣10 ♣Q ♣K ♦J)\n",
      "seat 3 played ♠8 (♠7 ♠8) (♠7 ♥Q ♥A ♣7 ♦K)\n",
      "seat 0 played ♠10 (♠10) (♣8 ♣9 ♣J ♣A ♦Q)\n",
      "Round:3 score:-24 Total Score:-83\n",
      "seat 1 played ♥K (♥8 ♥9 ♥J ♥K ♦9) (♥8 ♥9 ♥J ♦9)\n",
      "seat 2 played ♥10 (♥10) (♣10 ♣Q ♣K ♦J)\n",
      "seat 3 played ♥A (♥Q ♥A) (♠7 ♥Q ♣7 ♦K)\n",
      "seat 0 played ♣8 (♣8 ♣9 ♣J ♣A ♦Q) (♣9 ♣J ♣A ♦Q)\n",
      "Round:4 score:-25 Total Score:-108\n",
      "seat 3 played ♦K (♠7 ♥Q ♣7 ♦K) (♠7 ♥Q ♣7)\n",
      "seat 0 played ♦Q (♦Q) (♣9 ♣J ♣A)\n",
      "seat 1 played ♦9 (♦9) (♥8 ♥9 ♥J)\n",
      "seat 2 played ♦J (♦J) (♣10 ♣Q ♣K)\n",
      "Round:5 score:-9 Total Score:-117\n",
      "seat 3 played ♥Q (♠7 ♥Q ♣7) (♠7 ♣7)\n",
      "seat 0 played ♣9 (♣9 ♣J ♣A) (♣J ♣A)\n",
      "seat 1 played ♥J (♥8 ♥9 ♥J) (♥8 ♥9)\n",
      "seat 2 played ♣K (♣10 ♣Q ♣K) (♣10 ♣Q)\n",
      "Round:6 score:-9 Total Score:-126\n",
      "seat 3 played ♠7 (♠7 ♣7) (♣7)\n",
      "seat 0 played ♣J (♣J ♣A) (♣A)\n",
      "seat 1 played ♥9 (♥8 ♥9) (♥8)\n",
      "seat 2 played ♣Q (♣10 ♣Q) (♣10)\n",
      "Round:7 score:-5 Total Score:-131\n",
      "seat 3 played ♣7 (♣7) ()\n",
      "seat 0 played ♣A (♣A) ()\n",
      "seat 1 played ♥8 (♥8) ()\n",
      "seat 2 played ♣10 (♣10) ()\n",
      "Round:8 score:21 Total Score:-110\n"
     ]
    }
   ],
   "source": [
    "game = Game_Hokom(verbose=1)\n",
    "game.register_bots(bots=[_bot_v.Bot(models_v), Bot_Rule(), _bot_v.Bot(models_v), Bot_Rule()])\n",
    "game.whole_game()"
   ]
  },
  {
   "cell_type": "markdown",
   "id": "e5c0f08e",
   "metadata": {},
   "source": [
    "# 测试多局 \n",
    "\n",
    "对阵简单规则bot"
   ]
  },
  {
   "cell_type": "code",
   "execution_count": 40,
   "id": "0e77b997",
   "metadata": {},
   "outputs": [
    {
     "name": "stdout",
     "output_type": "stream",
     "text": [
      "0.574 0.016\n"
     ]
    }
   ],
   "source": [
    "scores = []\n",
    "for _ in range(1000):\n",
    "    game = Game_Hokom()\n",
    "    game.register_bots(bots=[_bot_v.Bot(models_v), Bot_Rule(), _bot_v.Bot(models_v), Bot_Rule()])\n",
    "    game.whole_game()\n",
    "    scores.append(np.sum(game.scores))\n",
    "print((np.array(scores) > 0).mean(), (np.array(scores) == 0).mean())"
   ]
  },
  {
   "cell_type": "code",
   "execution_count": 41,
   "id": "bec56e2a",
   "metadata": {},
   "outputs": [
    {
     "name": "stdout",
     "output_type": "stream",
     "text": [
      "0.588 0.009\n"
     ]
    }
   ],
   "source": [
    "scores = []\n",
    "for _ in range(1000):\n",
    "    game = Game_Hokom()\n",
    "    game.register_bots(bots=[Bot_Rule(), _bot_v.Bot(models_v), Bot_Rule(), _bot_v.Bot(models_v)])\n",
    "    game.whole_game()\n",
    "    scores.append(np.sum(game.scores))\n",
    "print((np.array(scores) < 0).mean(), (np.array(scores) == 0).mean())"
   ]
  },
  {
   "cell_type": "markdown",
   "id": "8b59beae",
   "metadata": {},
   "source": [
    "## 对阵随机bot"
   ]
  },
  {
   "cell_type": "code",
   "execution_count": 42,
   "id": "b202fecb",
   "metadata": {},
   "outputs": [
    {
     "name": "stdout",
     "output_type": "stream",
     "text": [
      "0.653 0.012\n"
     ]
    }
   ],
   "source": [
    "scores = []\n",
    "for _ in range(1000):\n",
    "    game = Game_Hokom()\n",
    "    game.register_bots(bots=[_bot_v.Bot(models_v), Bot_Random(), _bot_v.Bot(models_v), Bot_Random()])\n",
    "    game.whole_game()\n",
    "    scores.append(np.sum(game.scores))\n",
    "print((np.array(scores) > 0).mean(), (np.array(scores) == 0).mean())"
   ]
  },
  {
   "cell_type": "code",
   "execution_count": 43,
   "id": "343483b3",
   "metadata": {},
   "outputs": [
    {
     "name": "stdout",
     "output_type": "stream",
     "text": [
      "0.634 0.014\n"
     ]
    }
   ],
   "source": [
    "scores = []\n",
    "for _ in range(1000):\n",
    "    game = Game_Hokom()\n",
    "    game.register_bots(bots=[Bot_Random(), _bot_v.Bot(models_v), Bot_Random(), _bot_v.Bot(models_v)])\n",
    "    game.whole_game()\n",
    "    scores.append(np.sum(game.scores))\n",
    "print((np.array(scores) < 0).mean(), (np.array(scores) == 0).mean())"
   ]
  },
  {
   "cell_type": "code",
   "execution_count": null,
   "id": "e8f48a9a",
   "metadata": {},
   "outputs": [],
   "source": []
  }
 ],
 "metadata": {
  "kernelspec": {
   "display_name": "Python 3",
   "language": "python",
   "name": "python3"
  },
  "language_info": {
   "codemirror_mode": {
    "name": "ipython",
    "version": 3
   },
   "file_extension": ".py",
   "mimetype": "text/x-python",
   "name": "python",
   "nbconvert_exporter": "python",
   "pygments_lexer": "ipython3",
   "version": "3.9.13"
  }
 },
 "nbformat": 4,
 "nbformat_minor": 5
}
