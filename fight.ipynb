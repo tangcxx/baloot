{
 "cells": [
  {
   "cell_type": "code",
   "execution_count": 12,
   "id": "31381707",
   "metadata": {},
   "outputs": [],
   "source": [
    "import torch\n",
    "import numpy as np\n",
    "\n",
    "import _game\n",
    "import _bot_b2\n",
    "\n",
    "import importlib\n",
    "importlib.reload(_game)\n",
    "importlib.reload(_bot_b2)\n",
    "\n",
    "from _game import Game, Game_Hokom, Game_Sun, Bot_Random\n"
   ]
  },
  {
   "cell_type": "code",
   "execution_count": 17,
   "id": "8e8df870",
   "metadata": {},
   "outputs": [],
   "source": [
    "models_b2 = [_bot_b2.Model(i) for i in range(4)]\n",
    "cp_b2 = torch.load(\"model_b2/cp111000.pt\")\n",
    "[models_b2[i].load_state_dict(cp_b2[\"models_state_dict\"][i]) for i in range(4)]\n",
    "bots_b2 = [_bot_b2.Bot(models_b2) for i in range(4)]"
   ]
  },
  {
   "cell_type": "code",
   "execution_count": 16,
   "id": "ea552cbd",
   "metadata": {},
   "outputs": [
    {
     "name": "stdout",
     "output_type": "stream",
     "text": [
      "hokum: ♠\n",
      "Bot 0 played ♣8 (♠7 ♠A ♥8 ♥Q ♥K ♣Q ♦A)\n",
      "Bot 1 played ♣9 (♠9 ♥7 ♥9 ♥A ♣A ♦8 ♦J)\n",
      "Bot 2 played ♣7 (♠8 ♠Q ♥10 ♣J ♣K ♦7 ♦K)\n",
      "Bot 3 played ♣10 (♠10 ♠J ♠K ♥J ♦9 ♦10 ♦Q)\n",
      "Round:1 score:-10 Scores:-10\n",
      "Bot 3 played ♥J (♠10 ♠J ♠K ♦9 ♦10 ♦Q)\n",
      "Bot 0 played ♥K (♠7 ♠A ♥8 ♥Q ♣Q ♦A)\n",
      "Bot 1 played ♥A (♠9 ♥7 ♥9 ♣A ♦8 ♦J)\n",
      "Bot 2 played ♥10 (♠8 ♠Q ♣J ♣K ♦7 ♦K)\n",
      "Round:2 score:-27 Scores:-37\n",
      "Bot 1 played ♠9 (♥7 ♥9 ♣A ♦8 ♦J)\n",
      "Bot 2 played ♠Q (♠8 ♣J ♣K ♦7 ♦K)\n",
      "Bot 3 played ♠10 (♠J ♠K ♦9 ♦10 ♦Q)\n",
      "Bot 0 played ♠A (♠7 ♥8 ♥Q ♣Q ♦A)\n",
      "Round:3 score:-38 Scores:-75\n",
      "Bot 1 played ♥7 (♥9 ♣A ♦8 ♦J)\n",
      "Bot 2 played ♠8 (♣J ♣K ♦7 ♦K)\n",
      "Bot 3 played ♠K (♠J ♦9 ♦10 ♦Q)\n",
      "Bot 0 played ♥8 (♠7 ♥Q ♣Q ♦A)\n",
      "Round:4 score:-4 Scores:-79\n",
      "Bot 3 played ♦Q (♠J ♦9 ♦10)\n",
      "Bot 0 played ♦A (♠7 ♥Q ♣Q)\n",
      "Bot 1 played ♦8 (♥9 ♣A ♦J)\n",
      "Bot 2 played ♦7 (♣J ♣K ♦K)\n",
      "Round:5 score:14 Scores:-65\n",
      "Bot 0 played ♥Q (♠7 ♣Q)\n",
      "Bot 1 played ♥9 (♣A ♦J)\n",
      "Bot 2 played ♣K (♣J ♦K)\n",
      "Bot 3 played ♠J (♦9 ♦10)\n",
      "Round:6 score:-27 Scores:-92\n",
      "Bot 3 played ♦9 (♦10)\n",
      "Bot 0 played ♠7 (♣Q)\n",
      "Bot 1 played ♦J (♣A)\n",
      "Bot 2 played ♦K (♣J)\n",
      "Round:7 score:6 Scores:-86\n",
      "Bot 0 played ♣Q ()\n",
      "Bot 1 played ♣A ()\n",
      "Bot 2 played ♣J ()\n",
      "Bot 3 played ♦10 ()\n",
      "Round:8 score:-26 Scores:-112\n"
     ]
    }
   ],
   "source": [
    "game = Game_Hokom(verbose=1)\n",
    "game.register_bots(bots=bots_b2)\n",
    "game.whole_game()"
   ]
  },
  {
   "cell_type": "code",
   "execution_count": 18,
   "id": "497459f2",
   "metadata": {},
   "outputs": [
    {
     "name": "stdout",
     "output_type": "stream",
     "text": [
      "hokum: ♠\n",
      "Bot 3 played ♠K (♠7 ♠J ♥J ♥K ♣7 ♣K ♣A)\n",
      "Bot 0 played ♠8 (♠A ♥A ♣J ♣Q ♦7 ♦8 ♦J)\n",
      "Bot 1 played ♠9 (♠10 ♥7 ♥10 ♣8 ♣9 ♦9 ♦Q)\n",
      "Bot 2 played ♠Q (♥8 ♥9 ♥Q ♣10 ♦10 ♦K ♦A)\n",
      "Round:1 score:-21 Scores:-21\n",
      "Bot 1 played ♣9 (♠10 ♥7 ♥10 ♣8 ♦9 ♦Q)\n",
      "Bot 2 played ♣10 (♥8 ♥9 ♥Q ♦10 ♦K ♦A)\n",
      "Bot 3 played ♣A (♠7 ♠J ♥J ♥K ♣7 ♣K)\n",
      "Bot 0 played ♣Q (♠A ♥A ♣J ♦7 ♦8 ♦J)\n",
      "Round:2 score:-24 Scores:-45\n",
      "Bot 3 played ♣7 (♠7 ♠J ♥J ♥K ♣K)\n",
      "Bot 0 played ♣J (♠A ♥A ♦7 ♦8 ♦J)\n",
      "Bot 1 played ♣8 (♠10 ♥7 ♥10 ♦9 ♦Q)\n",
      "Bot 2 played ♥Q (♥8 ♥9 ♦10 ♦K ♦A)\n",
      "Round:3 score:5 Scores:-40\n",
      "Bot 0 played ♦J (♠A ♥A ♦7 ♦8)\n",
      "Bot 1 played ♦Q (♠10 ♥7 ♥10 ♦9)\n",
      "Bot 2 played ♦A (♥8 ♥9 ♦10 ♦K)\n",
      "Bot 3 played ♠7 (♠J ♥J ♥K ♣K)\n",
      "Round:4 score:-16 Scores:-56\n",
      "Bot 3 played ♣K (♠J ♥J ♥K)\n",
      "Bot 0 played ♠A (♥A ♦7 ♦8)\n",
      "Bot 1 played ♠10 (♥7 ♥10 ♦9)\n",
      "Bot 2 played ♥9 (♥8 ♦10 ♦K)\n",
      "Round:5 score:25 Scores:-31\n",
      "Bot 0 played ♦8 (♥A ♦7)\n",
      "Bot 1 played ♦9 (♥7 ♥10)\n",
      "Bot 2 played ♦10 (♥8 ♦K)\n",
      "Bot 3 played ♠J (♥J ♥K)\n",
      "Round:6 score:-30 Scores:-61\n",
      "Bot 3 played ♥K (♥J)\n",
      "Bot 0 played ♥A (♦7)\n",
      "Bot 1 played ♥10 (♥7)\n",
      "Bot 2 played ♥8 (♦K)\n",
      "Round:7 score:25 Scores:-36\n",
      "Bot 0 played ♦7 ()\n",
      "Bot 1 played ♥7 ()\n",
      "Bot 2 played ♦K ()\n",
      "Bot 3 played ♥J ()\n",
      "Round:8 score:6 Scores:-30\n"
     ]
    }
   ],
   "source": [
    "game = Game_Hokom(verbose=1)\n",
    "game.register_bots(bots=[_bot_b2.Bot(models_b2), Bot_Random(), _bot_b2.Bot(models_b2), Bot_Random()])\n",
    "game.whole_game()"
   ]
  },
  {
   "cell_type": "code",
   "execution_count": null,
   "id": "2ef6a5e5",
   "metadata": {},
   "outputs": [],
   "source": []
  }
 ],
 "metadata": {
  "kernelspec": {
   "display_name": "Python 3",
   "language": "python",
   "name": "python3"
  },
  "language_info": {
   "codemirror_mode": {
    "name": "ipython",
    "version": 3
   },
   "file_extension": ".py",
   "mimetype": "text/x-python",
   "name": "python",
   "nbconvert_exporter": "python",
   "pygments_lexer": "ipython3",
   "version": "3.9.13"
  }
 },
 "nbformat": 4,
 "nbformat_minor": 5
}
